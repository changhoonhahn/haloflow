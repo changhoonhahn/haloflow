{
 "cells": [
  {
   "cell_type": "markdown",
   "metadata": {},
   "source": [
    "# construct Training/Testing datasets of central subhalos\n",
    "Use subhalos and central/satellite information compiled in `compile_subhalos.ipynb` and `groupcat.ipynb` to compile training and testing datasets for the NPE"
   ]
  },
  {
   "cell_type": "code",
   "execution_count": 1,
   "metadata": {},
   "outputs": [],
   "source": [
    "import os, h5py\n",
    "import numpy as np\n",
    "from astropy import table as aTable"
   ]
  },
  {
   "cell_type": "markdown",
   "metadata": {},
   "source": [
    "read in all compiled subhalo and only keep those at `snapshot = 91`, which corresponds to $z=0.1$"
   ]
  },
  {
   "cell_type": "code",
   "execution_count": 2,
   "metadata": {},
   "outputs": [
    {
     "name": "stdout",
     "output_type": "stream",
     "text": [
      "12188 subhalos\n"
     ]
    }
   ],
   "source": [
    "subhalo = aTable.Table.read('/Users/chahah/data/frb_halos/subhalos_morph.csv')\n",
    "snap91  = (subhalo['snapshot'] == 91)\n",
    "subhalo = subhalo[snap91]\n",
    "print('%i subhalos' % len(subhalo))"
   ]
  },
  {
   "cell_type": "markdown",
   "metadata": {},
   "source": [
    "lets only keep central galaxies based on central/satellite classification from `groupcat.ipynb`"
   ]
  },
  {
   "cell_type": "code",
   "execution_count": 3,
   "metadata": {},
   "outputs": [
    {
     "name": "stdout",
     "output_type": "stream",
     "text": [
      "0.61 of subhalos are centrals\n",
      "7468 subhalos\n"
     ]
    }
   ],
   "source": [
    "central_id = np.load('/Users/chahah/data/frb_halos/centrals.subfind_id.snapshot91.npy')\n",
    "is_central = np.array([_id in central_id for _id in subhalo['subhalo_id']])\n",
    "subhalo = subhalo[is_central]\n",
    "print('%.2f of subhalos are centrals' % np.mean(is_central))\n",
    "print('%i subhalos' % len(subhalo))"
   ]
  },
  {
   "cell_type": "code",
   "execution_count": 4,
   "metadata": {},
   "outputs": [
    {
     "data": {
      "text/html": [
       "<div><i>Table length=5</i>\n",
       "<table id=\"table140410423206288\" class=\"table-striped table-bordered table-condensed\">\n",
       "<thead><tr><th>g_Sersic_Reff</th><th>g_Sersic_mag</th><th>g_Sersic_dmag_m</th><th>g_Sersic_dmag_p</th><th>g_CAS_C</th><th>g_CAS_A</th><th>snapshot</th><th>subhalo_id</th><th>version</th><th>i_Sersic_Reff</th><th>i_Sersic_mag</th><th>i_Sersic_dmag_m</th><th>i_Sersic_dmag_p</th><th>i_CAS_C</th><th>i_CAS_A</th><th>r_Sersic_Reff</th><th>r_Sersic_mag</th><th>r_Sersic_dmag_m</th><th>r_Sersic_dmag_p</th><th>r_CAS_C</th><th>r_CAS_A</th><th>y_Sersic_Reff</th><th>y_Sersic_mag</th><th>y_Sersic_dmag_m</th><th>y_Sersic_dmag_p</th><th>y_CAS_C</th><th>y_CAS_A</th><th>z_Sersic_Reff</th><th>z_Sersic_mag</th><th>z_Sersic_dmag_m</th><th>z_Sersic_dmag_p</th><th>z_CAS_C</th><th>z_CAS_A</th><th>SubhaloMassType_stars</th><th>SubhaloMassType_dm</th></tr></thead>\n",
       "<thead><tr><th>float64</th><th>float64</th><th>float64</th><th>float64</th><th>float64</th><th>float64</th><th>int64</th><th>int64</th><th>str2</th><th>float64</th><th>float64</th><th>float64</th><th>float64</th><th>float64</th><th>float64</th><th>float64</th><th>float64</th><th>float64</th><th>float64</th><th>float64</th><th>float64</th><th>float64</th><th>float64</th><th>float64</th><th>float64</th><th>float64</th><th>float64</th><th>float64</th><th>float64</th><th>float64</th><th>float64</th><th>float64</th><th>float64</th><th>float64</th><th>float64</th></tr></thead>\n",
       "<tr><td>19.3399</td><td>13.3532</td><td>-0.000235766</td><td>0.000968579</td><td>5.48404</td><td>0.128438</td><td>91</td><td>0</td><td>v3</td><td>19.0344</td><td>11.9149</td><td>-0.00614352</td><td>0.0441109</td><td>5.5885</td><td>0.151465</td><td>19.3865</td><td>12.4089</td><td>-0.00406867</td><td>0.000176909</td><td>5.48404</td><td>0.135967</td><td>18.6958</td><td>11.5054</td><td>-0.017918</td><td>0.25913</td><td>5.5386</td><td>0.135583</td><td>18.4421</td><td>11.6366</td><td>-0.0187289</td><td>0.160165</td><td>5.64329</td><td>0.1419</td><td>12.7342</td><td>14.2415</td></tr>\n",
       "<tr><td>17.8423</td><td>13.3935</td><td>-0.00436186</td><td>0.00183683</td><td>5.38695</td><td>0.0904381</td><td>91</td><td>0</td><td>v2</td><td>15.5692</td><td>12.0187</td><td>-0.009137</td><td>0.0291452</td><td>5.55585</td><td>0.0861324</td><td>15.5731</td><td>12.5123</td><td>-0.000620076</td><td>0.00299924</td><td>5.38695</td><td>0.0893994</td><td>14.8731</td><td>11.6315</td><td>-0.0169273</td><td>0.0366591</td><td>5.45017</td><td>0.0698951</td><td>15.6444</td><td>11.7254</td><td>-0.000748302</td><td>0.00353526</td><td>5.55585</td><td>0.0778021</td><td>12.7342</td><td>14.2415</td></tr>\n",
       "<tr><td>19.4988</td><td>13.3941</td><td>-0.0634623</td><td>0.0803728</td><td>5.53764</td><td>0.103165</td><td>91</td><td>0</td><td>v1</td><td>18.8773</td><td>11.9666</td><td>-0.058396</td><td>0.0774409</td><td>5.69275</td><td>0.129235</td><td>16.3905</td><td>12.5511</td><td>-0.167439</td><td>0.0408123</td><td>5.53764</td><td>0.106361</td><td>20.3895</td><td>11.5183</td><td>-0.0408704</td><td>0.0943793</td><td>5.64329</td><td>0.0945187</td><td>21.5618</td><td>11.5932</td><td>-0.00577006</td><td>0.00813687</td><td>5.69275</td><td>0.119082</td><td>12.7342</td><td>14.2415</td></tr>\n",
       "<tr><td>17.4816</td><td>13.4667</td><td>-0.00148941</td><td>0.00169452</td><td>5.5386</td><td>0.0655124</td><td>91</td><td>0</td><td>v0</td><td>17.4199</td><td>12.0365</td><td>-0.00046291</td><td>0.000525119</td><td>5.70243</td><td>0.0809164</td><td>17.6987</td><td>12.5213</td><td>-0.019676</td><td>0.0129239</td><td>5.5386</td><td>0.0727035</td><td>17.8812</td><td>11.6088</td><td>-0.00314681</td><td>0.00136466</td><td>5.43369</td><td>0.0659247</td><td>17.103</td><td>11.7548</td><td>-0.00131203</td><td>0.00228339</td><td>5.70243</td><td>0.0771571</td><td>12.7342</td><td>14.2415</td></tr>\n",
       "<tr><td>8.35114</td><td>14.371</td><td>-0.000231679</td><td>0.000353278</td><td>3.76913</td><td>0.156349</td><td>91</td><td>70250</td><td>v0</td><td>4.53555</td><td>13.381</td><td>-6.8082e-05</td><td>8.51091e-05</td><td>4.22041</td><td>0.119823</td><td>5.25201</td><td>13.7941</td><td>-0.00479618</td><td>0.002363</td><td>4.02414</td><td>0.132992</td><td>4.35746</td><td>12.9981</td><td>-0.000605105</td><td>0.000244437</td><td>3.98999</td><td>0.0989417</td><td>4.71643</td><td>13.0892</td><td>-0.000294769</td><td>0.000150397</td><td>4.1056</td><td>0.10153</td><td>12.1915</td><td>13.8559</td></tr>\n",
       "</table></div>"
      ],
      "text/plain": [
       "<Table length=5>\n",
       "g_Sersic_Reff g_Sersic_mag g_Sersic_dmag_m g_Sersic_dmag_p g_CAS_C  g_CAS_A  snapshot subhalo_id version i_Sersic_Reff i_Sersic_mag i_Sersic_dmag_m i_Sersic_dmag_p i_CAS_C ... y_Sersic_mag y_Sersic_dmag_m y_Sersic_dmag_p y_CAS_C  y_CAS_A  z_Sersic_Reff z_Sersic_mag z_Sersic_dmag_m z_Sersic_dmag_p z_CAS_C  z_CAS_A  SubhaloMassType_stars SubhaloMassType_dm\n",
       "   float64      float64        float64         float64     float64  float64   int64     int64      str2     float64      float64        float64         float64     float64 ...   float64        float64         float64     float64  float64     float64      float64        float64         float64     float64  float64         float64             float64      \n",
       "------------- ------------ --------------- --------------- ------- --------- -------- ---------- ------- ------------- ------------ --------------- --------------- ------- ... ------------ --------------- --------------- ------- --------- ------------- ------------ --------------- --------------- ------- --------- --------------------- ------------------\n",
       "      19.3399      13.3532    -0.000235766     0.000968579 5.48404  0.128438       91          0      v3       19.0344      11.9149     -0.00614352       0.0441109  5.5885 ...      11.5054       -0.017918         0.25913  5.5386  0.135583       18.4421      11.6366      -0.0187289        0.160165 5.64329    0.1419               12.7342            14.2415\n",
       "      17.8423      13.3935     -0.00436186      0.00183683 5.38695 0.0904381       91          0      v2       15.5692      12.0187       -0.009137       0.0291452 5.55585 ...      11.6315      -0.0169273       0.0366591 5.45017 0.0698951       15.6444      11.7254    -0.000748302      0.00353526 5.55585 0.0778021               12.7342            14.2415\n",
       "      19.4988      13.3941      -0.0634623       0.0803728 5.53764  0.103165       91          0      v1       18.8773      11.9666       -0.058396       0.0774409 5.69275 ...      11.5183      -0.0408704       0.0943793 5.64329 0.0945187       21.5618      11.5932     -0.00577006      0.00813687 5.69275  0.119082               12.7342            14.2415\n",
       "      17.4816      13.4667     -0.00148941      0.00169452  5.5386 0.0655124       91          0      v0       17.4199      12.0365     -0.00046291     0.000525119 5.70243 ...      11.6088     -0.00314681      0.00136466 5.43369 0.0659247        17.103      11.7548     -0.00131203      0.00228339 5.70243 0.0771571               12.7342            14.2415\n",
       "      8.35114       14.371    -0.000231679     0.000353278 3.76913  0.156349       91      70250      v0       4.53555       13.381     -6.8082e-05     8.51091e-05 4.22041 ...      12.9981    -0.000605105     0.000244437 3.98999 0.0989417       4.71643      13.0892    -0.000294769     0.000150397  4.1056   0.10153               12.1915            13.8559"
      ]
     },
     "execution_count": 4,
     "metadata": {},
     "output_type": "execute_result"
    }
   ],
   "source": [
    "subhalo[:5]"
   ]
  },
  {
   "cell_type": "markdown",
   "metadata": {},
   "source": [
    "## select test subhalos\n",
    "We will select 125 subhalos based on `subhalo_id`. Since there are 4 angles per subhalo, this will provide a test set of 500. \n",
    "\n",
    "We'll also stick with subhalos with $\\log M_* > 9.5$ to mitigate complications with the stellar mass lower bound."
   ]
  },
  {
   "cell_type": "code",
   "execution_count": 5,
   "metadata": {},
   "outputs": [],
   "source": [
    "uid = np.random.choice(np.unique(subhalo['subhalo_id'][subhalo['SubhaloMassType_stars'] > 9.5]), replace=False, size=125)\n",
    "\n",
    "i_test = np.zeros(len(subhalo)).astype(bool)\n",
    "for _uid in uid:\n",
    "    i_test[subhalo['subhalo_id'] == _uid] = True"
   ]
  },
  {
   "cell_type": "code",
   "execution_count": 6,
   "metadata": {},
   "outputs": [
    {
     "name": "stdout",
     "output_type": "stream",
     "text": [
      "500 test subhalos\n"
     ]
    }
   ],
   "source": [
    "print('%s test subhalos' % np.sum(i_test))"
   ]
  },
  {
   "cell_type": "code",
   "execution_count": 8,
   "metadata": {},
   "outputs": [],
   "source": [
    "test_subhalos = subhalo[i_test]\n",
    "train_subhalos = subhalo[~i_test]\n",
    "\n",
    "test_subhalos.write('/Users/chahah/data/frb_halos/subhalos.central.snapshot91.test.csv', format='csv', overwrite=True) \n",
    "train_subhalos.write('/Users/chahah/data/frb_halos/subhalos.central.snapshot91.train.csv', format='csv', overwrite=True) "
   ]
  },
  {
   "cell_type": "code",
   "execution_count": null,
   "metadata": {},
   "outputs": [],
   "source": []
  }
 ],
 "metadata": {
  "kernelspec": {
   "display_name": "uhod",
   "language": "python",
   "name": "uhod"
  },
  "language_info": {
   "codemirror_mode": {
    "name": "ipython",
    "version": 3
   },
   "file_extension": ".py",
   "mimetype": "text/x-python",
   "name": "python",
   "nbconvert_exporter": "python",
   "pygments_lexer": "ipython3",
   "version": "3.7.11"
  }
 },
 "nbformat": 4,
 "nbformat_minor": 4
}
