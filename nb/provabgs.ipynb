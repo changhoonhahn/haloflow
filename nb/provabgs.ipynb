{
 "cells": [
  {
   "cell_type": "markdown",
   "metadata": {},
   "source": [
    "# `provabgs` SED modeling to infer $M_*$ using photometry\n",
    "We use `provabgs` to infer $M_*$ from forward modeled photometry"
   ]
  },
  {
   "cell_type": "code",
   "execution_count": 1,
   "metadata": {},
   "outputs": [],
   "source": [
    "import os\n",
    "import numpy as np\n",
    "from astropy import table as aTable"
   ]
  },
  {
   "cell_type": "code",
   "execution_count": 2,
   "metadata": {},
   "outputs": [
    {
     "name": "stderr",
     "output_type": "stream",
     "text": [
      "/Users/chahah/projects/provabgs/src/provabgs/models.py:29: UserWarning: import error with pytorch; cannot use msurv emulator\n",
      "  warnings.warn('import error with pytorch; cannot use msurv emulator')\n"
     ]
    }
   ],
   "source": [
    "from provabgs import util as UT\n",
    "from provabgs import infer as Infer\n",
    "from provabgs import models as Models\n",
    "\n",
    "import speclite.filters"
   ]
  },
  {
   "cell_type": "code",
   "execution_count": 3,
   "metadata": {},
   "outputs": [],
   "source": [
    "# -- plotting -- \n",
    "import corner as DFM\n",
    "import matplotlib as mpl\n",
    "import matplotlib.pyplot as plt\n",
    "mpl.rcParams['text.usetex'] = True\n",
    "mpl.rcParams['font.family'] = 'serif'\n",
    "mpl.rcParams['axes.linewidth'] = 1.5\n",
    "mpl.rcParams['axes.xmargin'] = 1\n",
    "mpl.rcParams['xtick.labelsize'] = 'x-large'\n",
    "mpl.rcParams['xtick.major.size'] = 5\n",
    "mpl.rcParams['xtick.major.width'] = 1.5\n",
    "mpl.rcParams['ytick.labelsize'] = 'x-large'\n",
    "mpl.rcParams['ytick.major.size'] = 5\n",
    "mpl.rcParams['ytick.major.width'] = 1.5\n",
    "mpl.rcParams['legend.frameon'] = False"
   ]
  },
  {
   "cell_type": "markdown",
   "metadata": {},
   "source": [
    "## read test photometry\n",
    "We'll just be using the magnitudes"
   ]
  },
  {
   "cell_type": "code",
   "execution_count": 4,
   "metadata": {},
   "outputs": [],
   "source": [
    "subhalo_test = aTable.Table.read('/Users/chahah/data/frb_halos/subhalos.central.snapshot91.test.csv')"
   ]
  },
  {
   "cell_type": "markdown",
   "metadata": {},
   "source": [
    "I forgot to add magnitude uncertainties, so I'm doing it here. "
   ]
  },
  {
   "cell_type": "code",
   "execution_count": 5,
   "metadata": {},
   "outputs": [],
   "source": [
    "morphs = aTable.Table.read('/Users/chahah/data/frb_halos/MorphSersic_HSC_combined.csv')"
   ]
  },
  {
   "cell_type": "code",
   "execution_count": 6,
   "metadata": {},
   "outputs": [],
   "source": [
    "cols = ['snapshot', 'subhalo_id', 'version'] + ['%s_Sersic_dmag_m' % b for b in ['g', 'r', 'i', 'z', 'y']] + ['%s_Sersic_dmag_p' % b for b in ['g', 'r', 'i', 'z', 'y']]\n",
    "subhalo_test = aTable.join(subhalo_test, morphs[cols], keys=['snapshot', 'subhalo_id', 'version'])"
   ]
  },
  {
   "cell_type": "code",
   "execution_count": 7,
   "metadata": {},
   "outputs": [
    {
     "data": {
      "text/html": [
       "<div><i>Table length=5</i>\n",
       "<table id=\"table140279050819664\" class=\"table-striped table-bordered table-condensed\">\n",
       "<thead><tr><th>g_Sersic_Reff</th><th>g_Sersic_mag</th><th>g_Sersic_dmag_m_1</th><th>g_Sersic_dmag_p_1</th><th>g_CAS_C</th><th>g_CAS_A</th><th>snapshot</th><th>subhalo_id</th><th>version</th><th>i_Sersic_Reff</th><th>i_Sersic_mag</th><th>i_Sersic_dmag_m_1</th><th>i_Sersic_dmag_p_1</th><th>i_CAS_C</th><th>i_CAS_A</th><th>r_Sersic_Reff</th><th>r_Sersic_mag</th><th>r_Sersic_dmag_m_1</th><th>r_Sersic_dmag_p_1</th><th>r_CAS_C</th><th>r_CAS_A</th><th>y_Sersic_Reff</th><th>y_Sersic_mag</th><th>y_Sersic_dmag_m_1</th><th>y_Sersic_dmag_p_1</th><th>y_CAS_C</th><th>y_CAS_A</th><th>z_Sersic_Reff</th><th>z_Sersic_mag</th><th>z_Sersic_dmag_m_1</th><th>z_Sersic_dmag_p_1</th><th>z_CAS_C</th><th>z_CAS_A</th><th>SubhaloMassType_stars</th><th>SubhaloMassType_dm</th><th>g_Sersic_dmag_m_2</th><th>r_Sersic_dmag_m_2</th><th>i_Sersic_dmag_m_2</th><th>z_Sersic_dmag_m_2</th><th>y_Sersic_dmag_m_2</th><th>g_Sersic_dmag_p_2</th><th>r_Sersic_dmag_p_2</th><th>i_Sersic_dmag_p_2</th><th>z_Sersic_dmag_p_2</th><th>y_Sersic_dmag_p_2</th></tr></thead>\n",
       "<thead><tr><th>float64</th><th>float64</th><th>float64</th><th>float64</th><th>float64</th><th>float64</th><th>int64</th><th>int64</th><th>str2</th><th>float64</th><th>float64</th><th>float64</th><th>float64</th><th>float64</th><th>float64</th><th>float64</th><th>float64</th><th>float64</th><th>float64</th><th>float64</th><th>float64</th><th>float64</th><th>float64</th><th>float64</th><th>float64</th><th>float64</th><th>float64</th><th>float64</th><th>float64</th><th>float64</th><th>float64</th><th>float64</th><th>float64</th><th>float64</th><th>float64</th><th>float64</th><th>float64</th><th>float64</th><th>float64</th><th>float64</th><th>float64</th><th>float64</th><th>float64</th><th>float64</th><th>float64</th></tr></thead>\n",
       "<tr><td>9.43492</td><td>14.7362</td><td>-0.0228001</td><td>0.0113216</td><td>5.675</td><td>0.151536</td><td>91</td><td>188893</td><td>v0</td><td>7.58215</td><td>13.4072</td><td>-0.0368903</td><td>0.0111382</td><td>5.65709</td><td>0.134309</td><td>8.32708</td><td>13.8716</td><td>-0.00479359</td><td>0.00371598</td><td>5.76436</td><td>0.132757</td><td>8.17655</td><td>12.9869</td><td>-0.00254906</td><td>0.00518571</td><td>5.44145</td><td>0.0832174</td><td>7.40989</td><td>13.1486</td><td>-0.000101163</td><td>0.000100114</td><td>5.65709</td><td>0.1109</td><td>12.0927</td><td>13.4813</td><td>-0.0228001</td><td>-0.00479359</td><td>-0.0368903</td><td>-0.000101163</td><td>-0.00254906</td><td>0.0113216</td><td>0.00371598</td><td>0.0111382</td><td>0.000100114</td><td>0.00518571</td></tr>\n",
       "<tr><td>6.49051</td><td>14.9074</td><td>-0.00123298</td><td>0.00651073</td><td>5.755</td><td>0.182424</td><td>91</td><td>188893</td><td>v1</td><td>7.04467</td><td>13.4726</td><td>-0.000148445</td><td>6.24312e-05</td><td>5.64614</td><td>0.163196</td><td>6.05461</td><td>14.0322</td><td>-0.0237968</td><td>0.0188774</td><td>5.42976</td><td>0.140707</td><td>6.37337</td><td>13.114</td><td>-0.0109762</td><td>0.00327845</td><td>5.42702</td><td>0.12831</td><td>7.33593</td><td>13.179</td><td>-0.00392127</td><td>0.0288633</td><td>5.53682</td><td>0.133344</td><td>12.0927</td><td>13.4813</td><td>-0.00123298</td><td>-0.0237968</td><td>-0.000148445</td><td>-0.00392127</td><td>-0.0109762</td><td>0.00651073</td><td>0.0188774</td><td>6.24312e-05</td><td>0.0288633</td><td>0.00327845</td></tr>\n",
       "<tr><td>17.5121</td><td>15.001</td><td>-0.000498276</td><td>0.000607144</td><td>3.97173</td><td>0.329825</td><td>91</td><td>188893</td><td>v2</td><td>19.1861</td><td>13.4974</td><td>-0.0159896</td><td>0.006454</td><td>4.48426</td><td>0.288616</td><td>17.2919</td><td>14.1008</td><td>-0.0155399</td><td>0.00920959</td><td>4.18496</td><td>0.297089</td><td>15.1372</td><td>13.1519</td><td>-0.103126</td><td>0.0536822</td><td>4.70154</td><td>0.233608</td><td>15.1383</td><td>13.3053</td><td>-0.0481313</td><td>0.0152788</td><td>4.58445</td><td>0.254776</td><td>12.0927</td><td>13.4813</td><td>-0.000498276</td><td>-0.0155399</td><td>-0.0159896</td><td>-0.0481313</td><td>-0.103126</td><td>0.000607144</td><td>0.00920959</td><td>0.006454</td><td>0.0152788</td><td>0.0536822</td></tr>\n",
       "<tr><td>7.34427</td><td>15.0605</td><td>-0.000364375</td><td>0.00395798</td><td>5.97144</td><td>0.359144</td><td>91</td><td>188893</td><td>v3</td><td>5.22868</td><td>13.7271</td><td>-0.000163293</td><td>0.000979249</td><td>5.64614</td><td>0.271607</td><td>7.14591</td><td>14.1488</td><td>-0.0176715</td><td>0.029636</td><td>5.755</td><td>0.295808</td><td>6.27765</td><td>13.2321</td><td>-0.000139421</td><td>0.000166413</td><td>5.65596</td><td>0.212494</td><td>5.70168</td><td>13.4</td><td>-0.000151222</td><td>0.000169109</td><td>5.42702</td><td>0.227725</td><td>12.0927</td><td>13.4813</td><td>-0.000364375</td><td>-0.0176715</td><td>-0.000163293</td><td>-0.000151222</td><td>-0.000139421</td><td>0.00395798</td><td>0.029636</td><td>0.000979249</td><td>0.000169109</td><td>0.000166413</td></tr>\n",
       "<tr><td>0.747813</td><td>16.6905</td><td>-0.000183699</td><td>0.000163322</td><td>4.83485</td><td>0.0308228</td><td>91</td><td>208563</td><td>v0</td><td>0.632306</td><td>15.3027</td><td>-4.14848e-05</td><td>3.71917e-05</td><td>4.85612</td><td>0.0242648</td><td>0.646457</td><td>15.82</td><td>-6.01077e-05</td><td>6.41379e-05</td><td>4.97316</td><td>0.0179406</td><td>0.594059</td><td>14.92</td><td>-9.84968e-05</td><td>0.000108269</td><td>4.15432</td><td>0.0150189</td><td>0.622927</td><td>15.0025</td><td>-6.39485e-05</td><td>6.19838e-05</td><td>4.49907</td><td>0.0281371</td><td>11.7227</td><td>13.1865</td><td>-0.000183699</td><td>-6.01077e-05</td><td>-4.14848e-05</td><td>-6.39485e-05</td><td>-9.84968e-05</td><td>0.000163322</td><td>6.41379e-05</td><td>3.71917e-05</td><td>6.19838e-05</td><td>0.000108269</td></tr>\n",
       "</table></div>"
      ],
      "text/plain": [
       "<Table length=5>\n",
       "g_Sersic_Reff g_Sersic_mag ... z_Sersic_dmag_p_2 y_Sersic_dmag_p_2\n",
       "   float64      float64    ...      float64           float64     \n",
       "------------- ------------ ... ----------------- -----------------\n",
       "      9.43492      14.7362 ...       0.000100114        0.00518571\n",
       "      6.49051      14.9074 ...         0.0288633        0.00327845\n",
       "      17.5121       15.001 ...         0.0152788         0.0536822\n",
       "      7.34427      15.0605 ...       0.000169109       0.000166413\n",
       "     0.747813      16.6905 ...       6.19838e-05       0.000108269"
      ]
     },
     "execution_count": 7,
     "metadata": {},
     "output_type": "execute_result"
    }
   ],
   "source": [
    "subhalo_test[:5]"
   ]
  },
  {
   "cell_type": "markdown",
   "metadata": {},
   "source": [
    "## set up `provabgs`"
   ]
  },
  {
   "cell_type": "code",
   "execution_count": 8,
   "metadata": {},
   "outputs": [],
   "source": [
    "# read in HSC photometry filters\n",
    "dat_filter = '/opt/anaconda3/envs/gqp/lib/python3.7/site-packages/speclite/data/filters/'\n",
    "hsc = speclite.filters.FilterSequence([speclite.filters.load_filter(\n",
    "    os.path.join(dat_filter, 'hsc2017-%s.ecsv') % b) for b in ['g', 'r', 'i', 'z', 'y']])"
   ]
  },
  {
   "cell_type": "code",
   "execution_count": 9,
   "metadata": {},
   "outputs": [],
   "source": [
    "# declare prior\n",
    "prior = Infer.load_priors([\n",
    "    Infer.UniformPrior(7., 13.0, label='sed'),\n",
    "    Infer.FlatDirichletPrior(4, label='sed'),   # flat dirichilet priors\n",
    "    Infer.UniformPrior(0., 1., label='sed'), # burst fraction\n",
    "    Infer.UniformPrior(1e-2, 13.27, label='sed'), # tburst\n",
    "    Infer.LogUniformPrior(4.5e-5, 1.5e-2, label='sed'), # log uniform priors on ZH coeff\n",
    "    Infer.LogUniformPrior(4.5e-5, 1.5e-2, label='sed'), # log uniform priors on ZH coeff\n",
    "    Infer.UniformPrior(0., 3., label='sed'),        # uniform priors on dust1\n",
    "    Infer.UniformPrior(0., 3., label='sed'),        # uniform priors on dust2\n",
    "    Infer.UniformPrior(-2., 1., label='sed')    # uniform priors on dust_index\n",
    "])"
   ]
  },
  {
   "cell_type": "code",
   "execution_count": 10,
   "metadata": {},
   "outputs": [
    {
     "name": "stdout",
     "output_type": "stream",
     "text": [
      "input parameters : logmstar, beta1_sfh, beta2_sfh, beta3_sfh, beta4_sfh, fburst, tburst, gamma1_zh, gamma2_zh, dust1, dust2, dust_index\n"
     ]
    }
   ],
   "source": [
    "# declare SPS model\n",
    "m_nmf = Models.NMF(burst=True, emulator=True)"
   ]
  },
  {
   "cell_type": "code",
   "execution_count": 11,
   "metadata": {},
   "outputs": [],
   "source": [
    "# MCMC object\n",
    "mcmc = Infer.specphotoMCMC(model=m_nmf, prior=prior)"
   ]
  },
  {
   "cell_type": "code",
   "execution_count": 12,
   "metadata": {},
   "outputs": [],
   "source": [
    "mcmc.photometric_filters = hsc"
   ]
  },
  {
   "cell_type": "code",
   "execution_count": null,
   "metadata": {},
   "outputs": [],
   "source": [
    "\n",
    "chain = mcmc.run(\n",
    "        wave_obs=w_obs, # observed wavelength\n",
    "        flux_obs=f_obs, # observed flux of spectrum\n",
    "        flux_ivar_obs=np.ones(len(f_obs)), # no noise in this example\n",
    "        zred=0.1,       # redshift\n",
    "        vdisp=0.,       # velocity dispersion (set to 0 for simplicity)\n",
    "        sampler='zeus', # zeus ensemble slice sample\n",
    "        nwalkers=30,    # number of MCMC walkers\n",
    "        burnin=500,     # burn in iterations \n",
    "        opt_maxiter=2000, # maximum number of iterations for initial optimizer\n",
    "        niter=3000,     # number of iterations after burn in\n",
    "        progress=True)  # show progress bar"
   ]
  }
 ],
 "metadata": {
  "kernelspec": {
   "display_name": "gqp",
   "language": "python",
   "name": "gqp"
  },
  "language_info": {
   "codemirror_mode": {
    "name": "ipython",
    "version": 3
   },
   "file_extension": ".py",
   "mimetype": "text/x-python",
   "name": "python",
   "nbconvert_exporter": "python",
   "pygments_lexer": "ipython3",
   "version": "3.7.9"
  }
 },
 "nbformat": 4,
 "nbformat_minor": 4
}
