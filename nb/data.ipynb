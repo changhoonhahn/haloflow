{
 "cells": [
  {
   "cell_type": "markdown",
   "id": "5a1998ff",
   "metadata": {},
   "source": [
    "# full pipeline for contructing the `haloflow` dataset\n",
    "In practice, we use the script `bin/make_data.py`, which does the same thing"
   ]
  },
  {
   "cell_type": "code",
   "execution_count": 32,
   "id": "32150efc",
   "metadata": {},
   "outputs": [],
   "source": [
    "import os\n",
    "import h5py, glob\n",
    "import numpy as np \n",
    "from tqdm.notebook import tqdm\n",
    "from astropy import table as aTable"
   ]
  },
  {
   "cell_type": "code",
   "execution_count": 2,
   "id": "46efec84",
   "metadata": {},
   "outputs": [],
   "source": [
    "# -- plotting -- \n",
    "import corner as DFM\n",
    "import matplotlib as mpl\n",
    "import matplotlib.pyplot as plt\n",
    "mpl.rcParams['text.usetex'] = True\n",
    "mpl.rcParams['font.family'] = 'serif'\n",
    "mpl.rcParams['axes.linewidth'] = 1.5\n",
    "mpl.rcParams['axes.xmargin'] = 1\n",
    "mpl.rcParams['xtick.labelsize'] = 'x-large'\n",
    "mpl.rcParams['xtick.major.size'] = 5\n",
    "mpl.rcParams['xtick.major.width'] = 1.5\n",
    "mpl.rcParams['ytick.labelsize'] = 'x-large'\n",
    "mpl.rcParams['ytick.major.size'] = 5\n",
    "mpl.rcParams['ytick.major.width'] = 1.5\n",
    "mpl.rcParams['legend.frameon'] = False"
   ]
  },
  {
   "cell_type": "markdown",
   "id": "6558e324",
   "metadata": {},
   "source": [
    "# 1. compile morphology for subhalos\n",
    "Compile the following columns\n",
    "```\n",
    "col_photo = ['Sersic_mag', 'Sersic_Reff', 'CAS_C', 'CAS_A', 'Sersic_dmag_m', 'Sersic_dmag_p']\n",
    "col_subhalo = ['SubhaloMassType_stars', 'SubhaloMassType_dm']\n",
    "```\n",
    "\n",
    "First, lets combine all the morphology files"
   ]
  },
  {
   "cell_type": "code",
   "execution_count": 3,
   "id": "0a482f5b",
   "metadata": {},
   "outputs": [],
   "source": [
    "dat_dir = '/scratch/gpfs/chhahn/haloflow/'\n",
    "\n",
    "morph_g = aTable.Table.read(os.path.join(dat_dir, 'MorphSersic_HSC_G.csv'))\n",
    "morph_i = aTable.Table.read(os.path.join(dat_dir, 'MorphSersic_HSC_I.csv'))\n",
    "morph_r = aTable.Table.read(os.path.join(dat_dir, 'MorphSersic_HSC_R.csv'))\n",
    "morph_y = aTable.Table.read(os.path.join(dat_dir, 'MorphSersic_HSC_Y.csv'))\n",
    "morph_z = aTable.Table.read(os.path.join(dat_dir, 'MorphSersic_HSC_Z.csv'))"
   ]
  },
  {
   "cell_type": "code",
   "execution_count": 4,
   "id": "22acf0bc",
   "metadata": {},
   "outputs": [
    {
     "name": "stdout",
     "output_type": "stream",
     "text": [
      "78849 morphology\n"
     ]
    }
   ],
   "source": [
    "print('%i morphology' % len(morph_g))"
   ]
  },
  {
   "cell_type": "code",
   "execution_count": 5,
   "id": "103a190d",
   "metadata": {},
   "outputs": [],
   "source": [
    "col_photo = ['Sersic_mag', 'Sersic_Reff', 'CAS_C', 'CAS_A', 'Sersic_dmag_m', 'Sersic_dmag_p']\n",
    "\n",
    "for morph in [morph_g, morph_i, morph_r, morph_y, morph_z]:\n",
    "    morph['snapshot'] = [int(dbid.split('_')[1]) for dbid in morph['dbID'].data]\n",
    "    morph['subhalo_id'] = [int(dbid.split('_')[2]) for dbid in morph['dbID'].data]\n",
    "    morph['version'] = [dbid.split('_')[3] for dbid in morph['dbID'].data]\n",
    "    \n",
    "for band, morph in zip(['g', 'i', 'r', 'y', 'z'], [morph_g, morph_i, morph_r, morph_y, morph_z]): \n",
    "    cols = morph.columns.copy()\n",
    "    for k in cols: \n",
    "        if k in col_photo: \n",
    "            morph.rename_column(k, '%s_%s' % (band, k))\n",
    "        elif k in ['snapshot', 'subhalo_id', 'version']: \n",
    "            pass\n",
    "        else: \n",
    "            morph.remove_column(k)"
   ]
  },
  {
   "cell_type": "code",
   "execution_count": 6,
   "id": "87e135b6",
   "metadata": {},
   "outputs": [],
   "source": [
    "for i, morph in enumerate([morph_g, morph_i, morph_r, morph_y, morph_z]): \n",
    "    mask = np.zeros(len(morph)).astype(bool)\n",
    "    for k in morph.columns: \n",
    "        try: \n",
    "            mask = mask | morph[k].mask\n",
    "        except AttributeError: \n",
    "            pass\n",
    "        \n",
    "    if i == 0: \n",
    "        morphs = morph.copy()\n",
    "    else:        \n",
    "        morphs = aTable.join(morphs, morph[~mask], keys=['snapshot', 'subhalo_id', 'version'], join_type='left')"
   ]
  },
  {
   "cell_type": "code",
   "execution_count": 7,
   "id": "a95bf296",
   "metadata": {},
   "outputs": [],
   "source": [
    "mask = np.zeros(len(morphs)).astype(bool)\n",
    "for k in morphs.columns: \n",
    "    try: \n",
    "        mask = mask | morphs[k].mask\n",
    "    except AttributeError: \n",
    "        pass\n",
    "morphs = morphs[~mask]"
   ]
  },
  {
   "cell_type": "markdown",
   "id": "0202eb1d",
   "metadata": {},
   "source": [
    "Next, lets match them to the subhalos, by `snapshot` and `subhalo_id`"
   ]
  },
  {
   "cell_type": "code",
   "execution_count": 8,
   "id": "bc646a01",
   "metadata": {},
   "outputs": [
    {
     "name": "stdout",
     "output_type": "stream",
     "text": [
      "187978 subhalos\n"
     ]
    }
   ],
   "source": [
    "subhalo = aTable.Table.read(os.path.join(dat_dir, 'Subhalos.csv'))\n",
    "print('%i subhalos' % len(subhalo))"
   ]
  },
  {
   "cell_type": "code",
   "execution_count": 9,
   "id": "13565c74",
   "metadata": {},
   "outputs": [],
   "source": [
    "subhalo['snapshot'] = [int(dbid.split('_')[0]) for dbid in subhalo['dbID'].data]\n",
    "subhalo['subhalo_id'] = [int(dbid.split('_')[1]) for dbid in subhalo['dbID'].data]"
   ]
  },
  {
   "cell_type": "code",
   "execution_count": 10,
   "id": "4944c17f",
   "metadata": {},
   "outputs": [],
   "source": [
    "subhalos = aTable.join(morphs, subhalo['snapshot', 'subhalo_id', 'SubhaloMassType_stars', 'SubhaloMassType_dm'], \n",
    "                       keys=['snapshot', 'subhalo_id'], join_type='left')"
   ]
  },
  {
   "cell_type": "code",
   "execution_count": 11,
   "id": "b5599ea0",
   "metadata": {},
   "outputs": [],
   "source": [
    "# remove subhalos with no DM \n",
    "subhalos = subhalos[subhalos['SubhaloMassType_dm'] > 0]"
   ]
  },
  {
   "cell_type": "code",
   "execution_count": 12,
   "id": "be5604a3",
   "metadata": {},
   "outputs": [
    {
     "data": {
      "text/html": [
       "<i>Table length=5</i>\n",
       "<table id=\"table23381936969616\" class=\"table-striped table-bordered table-condensed\">\n",
       "<thead><tr><th>g_Sersic_Reff</th><th>g_Sersic_mag</th><th>g_Sersic_dmag_m</th><th>g_Sersic_dmag_p</th><th>g_CAS_C</th><th>g_CAS_A</th><th>snapshot</th><th>subhalo_id</th><th>version</th><th>i_Sersic_Reff</th><th>i_Sersic_mag</th><th>i_Sersic_dmag_m</th><th>i_Sersic_dmag_p</th><th>i_CAS_C</th><th>i_CAS_A</th><th>r_Sersic_Reff</th><th>r_Sersic_mag</th><th>r_Sersic_dmag_m</th><th>r_Sersic_dmag_p</th><th>r_CAS_C</th><th>r_CAS_A</th><th>y_Sersic_Reff</th><th>y_Sersic_mag</th><th>y_Sersic_dmag_m</th><th>y_Sersic_dmag_p</th><th>y_CAS_C</th><th>y_CAS_A</th><th>z_Sersic_Reff</th><th>z_Sersic_mag</th><th>z_Sersic_dmag_m</th><th>z_Sersic_dmag_p</th><th>z_CAS_C</th><th>z_CAS_A</th><th>SubhaloMassType_stars</th><th>SubhaloMassType_dm</th></tr></thead>\n",
       "<thead><tr><th>float64</th><th>float64</th><th>float64</th><th>float64</th><th>float64</th><th>float64</th><th>int64</th><th>int64</th><th>str2</th><th>float64</th><th>float64</th><th>float64</th><th>float64</th><th>float64</th><th>float64</th><th>float64</th><th>float64</th><th>float64</th><th>float64</th><th>float64</th><th>float64</th><th>float64</th><th>float64</th><th>float64</th><th>float64</th><th>float64</th><th>float64</th><th>float64</th><th>float64</th><th>float64</th><th>float64</th><th>float64</th><th>float64</th><th>float64</th><th>float64</th></tr></thead>\n",
       "<tr><td>8.24613</td><td>19.1778</td><td>-0.0779797</td><td>0.046892</td><td>3.33779</td><td>0.27015</td><td>59</td><td>0</td><td>v0</td><td>1.99236</td><td>17.9386</td><td>-0.00174236</td><td>0.00182266</td><td>4.5414</td><td>0.239801</td><td>5.28233</td><td>18.5249</td><td>-0.00385797</td><td>0.00355385</td><td>3.97973</td><td>0.239256</td><td>1.37891</td><td>17.5674</td><td>-0.00361839</td><td>0.00339944</td><td>4.18415</td><td>0.112956</td><td>1.97202</td><td>17.6489</td><td>-0.00287083</td><td>0.00251571</td><td>4.20004</td><td>0.154838</td><td>12.1272</td><td>13.8103</td></tr>\n",
       "<tr><td>11.6712</td><td>19.0432</td><td>-0.0425542</td><td>0.0731264</td><td>3.22296</td><td>0.364432</td><td>59</td><td>0</td><td>v1</td><td>6.57865</td><td>17.6822</td><td>-0.00529423</td><td>0.00438403</td><td>4.48597</td><td>0.292787</td><td>4.46632</td><td>18.8765</td><td>-0.0472835</td><td>0.012885</td><td>3.87586</td><td>0.250358</td><td>2.25006</td><td>17.5264</td><td>-0.00579206</td><td>0.0070568</td><td>4.22799</td><td>0.12975</td><td>2.76786</td><td>17.6744</td><td>-0.00346853</td><td>0.0040452</td><td>4.91712</td><td>0.22512</td><td>12.1272</td><td>13.8103</td></tr>\n",
       "<tr><td>6.29045</td><td>19.1097</td><td>-0.0219538</td><td>0.0249799</td><td>3.24656</td><td>0.390166</td><td>59</td><td>0</td><td>v3</td><td>1.2414</td><td>17.9188</td><td>-0.00291304</td><td>0.00337726</td><td>4.72038</td><td>0.247056</td><td>5.83477</td><td>18.22</td><td>-0.00423978</td><td>0.00453768</td><td>4.37358</td><td>0.194555</td><td>0.793874</td><td>17.6673</td><td>-0.00662935</td><td>0.00673421</td><td>3.72926</td><td>0.0387591</td><td>1.3203</td><td>17.594</td><td>-0.00594847</td><td>0.0057911</td><td>4.17379</td><td>0.122474</td><td>12.1272</td><td>13.8103</td></tr>\n",
       "<tr><td>6.1195</td><td>19.7286</td><td>-0.00522288</td><td>0.00495322</td><td>2.82971</td><td>0.410775</td><td>59</td><td>0</td><td>v2</td><td>3.60767</td><td>18.5171</td><td>-0.0027119</td><td>0.00272167</td><td>3.21209</td><td>0.263637</td><td>4.69163</td><td>19.2032</td><td>-0.00338622</td><td>0.00370766</td><td>2.96856</td><td>0.347073</td><td>2.45257</td><td>18.3693</td><td>-0.00816445</td><td>0.00805607</td><td>2.72622</td><td>0.343008</td><td>3.19436</td><td>18.3335</td><td>-0.00432735</td><td>0.00447652</td><td>3.22296</td><td>0.294881</td><td>12.1272</td><td>13.8103</td></tr>\n",
       "<tr><td>1.09169</td><td>21.8644</td><td>-0.0166642</td><td>0.0164959</td><td>2.7975</td><td>0.0526816</td><td>59</td><td>1</td><td>v0</td><td>2.78929</td><td>18.8237</td><td>-0.0116263</td><td>0.0114589</td><td>3.74536</td><td>0.0654512</td><td>1.72633</td><td>20.2486</td><td>-0.0190367</td><td>0.0413142</td><td>3.45521</td><td>0.0714894</td><td>1.54465</td><td>18.4721</td><td>-0.0257487</td><td>0.0244008</td><td>3.30828</td><td>-0.0680968</td><td>2.2398</td><td>18.5473</td><td>-0.0189426</td><td>0.0166284</td><td>3.54191</td><td>0.0137252</td><td>11.6411</td><td>12.2768</td></tr>\n",
       "</table>"
      ],
      "text/plain": [
       "<Table length=5>\n",
       "g_Sersic_Reff g_Sersic_mag ... SubhaloMassType_stars SubhaloMassType_dm\n",
       "   float64      float64    ...        float64             float64      \n",
       "------------- ------------ ... --------------------- ------------------\n",
       "      8.24613      19.1778 ...               12.1272            13.8103\n",
       "      11.6712      19.0432 ...               12.1272            13.8103\n",
       "      6.29045      19.1097 ...               12.1272            13.8103\n",
       "       6.1195      19.7286 ...               12.1272            13.8103\n",
       "      1.09169      21.8644 ...               11.6411            12.2768"
      ]
     },
     "execution_count": 12,
     "metadata": {},
     "output_type": "execute_result"
    }
   ],
   "source": [
    "subhalos[:5]"
   ]
  },
  {
   "cell_type": "code",
   "execution_count": 13,
   "id": "74098a33",
   "metadata": {},
   "outputs": [
    {
     "data": {
      "text/plain": [
       "[<matplotlib.lines.Line2D at 0x1543f9851f90>]"
      ]
     },
     "execution_count": 13,
     "metadata": {},
     "output_type": "execute_result"
    },
    {
     "data": {
      "image/png": "[encoded data removed]",
      "text/plain": [
       "<Figure size 396x396 with 4 Axes>"
      ]
     },
     "metadata": {
      "needs_background": "light"
     },
     "output_type": "display_data"
    }
   ],
   "source": [
    "fig = DFM.corner(np.array([np.array(subhalos[col].data) for col in ['SubhaloMassType_stars', 'SubhaloMassType_dm']]).T, \n",
    "               range=[(9., 13.), (5., 14.5)],\n",
    "              labels=[r'$\\log M_*$', r'$\\log M_h$'],\n",
    "              label_kwargs={'fontsize': 25})\n",
    "fig.axes[2].plot([9., 13.], [9., 13.], c='C1', ls='--', linewidth=2)"
   ]
  },
  {
   "cell_type": "code",
   "execution_count": 14,
   "id": "24059c61",
   "metadata": {},
   "outputs": [],
   "source": [
    "del subhalo"
   ]
  },
  {
   "cell_type": "markdown",
   "id": "8c7d468a",
   "metadata": {},
   "source": [
    "# 2. Compile group properties\n",
    "In particular, we identify central galaxies then calculate the satellite luminosity and richness"
   ]
  },
  {
   "cell_type": "code",
   "execution_count": 15,
   "id": "1db62d18",
   "metadata": {},
   "outputs": [],
   "source": [
    "snapshot = 91 # z = 0.1 https://www.tng-project.org/data/docs/specifications/#sec1"
   ]
  },
  {
   "cell_type": "code",
   "execution_count": 16,
   "id": "d414e1b4",
   "metadata": {},
   "outputs": [
    {
     "name": "stdout",
     "output_type": "stream",
     "text": [
      "12188 subhalos in snapshot 91\n"
     ]
    }
   ],
   "source": [
    "is_snap  = (subhalos['snapshot'] == snapshot)\n",
    "subhalos = subhalos[is_snap]\n",
    "print('%i subhalos in snapshot %i' % (len(subhalos), snapshot)) "
   ]
  },
  {
   "cell_type": "code",
   "execution_count": 17,
   "id": "2e015a34",
   "metadata": {},
   "outputs": [],
   "source": [
    "grp_dir = '/scratch/gpfs/chhahn/haloflow/groupcat/idark.ipmu.jp/hsc405/GroupCats/groups_0%i/' % snapshot\n",
    "\n",
    "h = 0.6773358287273804\n",
    "\n",
    "# compile subhalos and groups\n",
    "tab_sub, tab_grp = [], []\n",
    "for i in range(np.max([int(fsub.split('.')[-2]) for fsub in glob.glob(os.path.join(grp_dir, '*.hdf5'))])+1):\n",
    "    with h5py.File(os.path.join(grp_dir, 'fof_subhalo_tab_0%i.%i.hdf5' % (snapshot, i)), 'r') as fsub:\n",
    "        _tab = aTable.Table()\n",
    "        for k in fsub['Subhalo'].keys():\n",
    "            _tab[k] = fsub['Subhalo'][k][...]\n",
    "        tab_sub.append(_tab)\n",
    "\n",
    "        _tab = aTable.Table()\n",
    "        for k in fsub['Group'].keys():\n",
    "            _tab[k] = fsub['Group'][k][...]\n",
    "        tab_grp.append(_tab)\n",
    "\n",
    "tab_sub = aTable.vstack(tab_sub)\n",
    "tab_grp = aTable.vstack(tab_grp)"
   ]
  },
  {
   "cell_type": "markdown",
   "id": "b4112fd4",
   "metadata": {},
   "source": [
    "identify the centrals"
   ]
  },
  {
   "cell_type": "code",
   "execution_count": 19,
   "id": "95282e29",
   "metadata": {},
   "outputs": [
    {
     "name": "stdout",
     "output_type": "stream",
     "text": [
      "7468 centrals out of 12188 subhalos\n"
     ]
    }
   ],
   "source": [
    "central_subid = tab_grp['GroupFirstSub'][tab_grp['GroupFirstSub'] != -1]\n",
    "is_central = np.array([_id in central_subid for _id in subhalos['subhalo_id']])\n",
    "print('%i centrals out of %i subhalos' % (np.sum(is_central), len(is_central)))\n",
    "\n",
    "centrals = subhalos[is_central]"
   ]
  },
  {
   "cell_type": "code",
   "execution_count": 30,
   "id": "e239732b",
   "metadata": {},
   "outputs": [
    {
     "name": "stderr",
     "output_type": "stream",
     "text": [
      "/home/chhahn/.conda/envs/sbi/lib/python3.7/site-packages/ipykernel_launcher.py:1: RuntimeWarning: divide by zero encountered in log10\n",
      "  \"\"\"Entry point for launching an IPython kernel.\n"
     ]
    },
    {
     "data": {
      "text/plain": [
       "Text(0, 0.5, '$M_r$')"
      ]
     },
     "execution_count": 30,
     "metadata": {},
     "output_type": "execute_result"
    },
    {
     "data": {
      "image/png": "[encoded data removed]",
      "text/plain": [
       "<Figure size 432x288 with 1 Axes>"
      ]
     },
     "metadata": {
      "needs_background": "light"
     },
     "output_type": "display_data"
    }
   ],
   "source": [
    "plt.scatter(np.log10(tab_sub['SubhaloMassType'][:,4] * 10**10 / h), tab_sub['SubhaloStellarPhotometrics'][:,5], s=1)\n",
    "plt.plot([7., 13], [-18, -18], c='k', ls='--')\n",
    "plt.xlabel('$\\log M_*$', fontsize=25)\n",
    "plt.xlim(7, 13)\n",
    "plt.ylim(-10, -28)\n",
    "plt.ylabel('$M_r$', fontsize=25)"
   ]
  },
  {
   "cell_type": "code",
   "execution_count": 34,
   "id": "d38bfce6",
   "metadata": {},
   "outputs": [
    {
     "name": "stderr",
     "output_type": "stream",
     "text": [
      "/home/chhahn/.conda/envs/sbi/lib/python3.7/site-packages/ipykernel_launcher.py:10: RuntimeWarning: divide by zero encountered in log10\n",
      "  # Remove the CWD from sys.path while we load stuff.\n"
     ]
    },
    {
     "data": {
      "application/vnd.jupyter.widget-view+json": {
       "model_id": "8f241a4340634e6687215cc27d6d1767",
       "version_major": 2,
       "version_minor": 0
      },
      "text/plain": [
       "  0%|          | 0/1867 [00:00<?, ?it/s]"
      ]
     },
     "metadata": {},
     "output_type": "display_data"
    },
    {
     "ename": "KeyboardInterrupt",
     "evalue": "",
     "output_type": "error",
     "traceback": [
      "\u001b[0;31m---------------------------------------------------------------------------\u001b[0m",
      "\u001b[0;31mKeyboardInterrupt\u001b[0m                         Traceback (most recent call last)",
      "\u001b[0;32m<ipython-input-34-62d514fca102>\u001b[0m in \u001b[0;36m<module>\u001b[0;34m\u001b[0m\n\u001b[1;32m     18\u001b[0m     \u001b[0mis_sub\u001b[0m \u001b[0;34m=\u001b[0m \u001b[0;34m(\u001b[0m\u001b[0mcentrals\u001b[0m\u001b[0;34m[\u001b[0m\u001b[0;34m'subhalo_id'\u001b[0m\u001b[0;34m]\u001b[0m \u001b[0;34m==\u001b[0m \u001b[0mi_sub\u001b[0m\u001b[0;34m)\u001b[0m\u001b[0;34m\u001b[0m\u001b[0;34m\u001b[0m\u001b[0m\n\u001b[1;32m     19\u001b[0m     lum_has_stars[is_sub,:] = np.tile(\n\u001b[0;32m---> 20\u001b[0;31m         np.sum(10**(-0.4 * tab_sub[in_group & has_stars]['SubhaloStellarPhotometrics'][:,4:]), \n\u001b[0m\u001b[1;32m     21\u001b[0m             axis=0),\n\u001b[1;32m     22\u001b[0m         (np.sum(is_sub),1))\n",
      "\u001b[0;32m~/.conda/envs/sbi/lib/python3.7/site-packages/astropy/table/table.py\u001b[0m in \u001b[0;36m__getitem__\u001b[0;34m(self, item)\u001b[0m\n\u001b[1;32m   1662\u001b[0m             \u001b[0;31m# is produced by np.where, as in t[np.where(t['a'] > 2)]\u001b[0m\u001b[0;34m\u001b[0m\u001b[0;34m\u001b[0m\u001b[0;34m\u001b[0m\u001b[0m\n\u001b[1;32m   1663\u001b[0m             \u001b[0;31m# For all, a new table is constructed with slice of all columns\u001b[0m\u001b[0;34m\u001b[0m\u001b[0;34m\u001b[0m\u001b[0;34m\u001b[0m\u001b[0m\n\u001b[0;32m-> 1664\u001b[0;31m             \u001b[0;32mreturn\u001b[0m \u001b[0mself\u001b[0m\u001b[0;34m.\u001b[0m\u001b[0m_new_from_slice\u001b[0m\u001b[0;34m(\u001b[0m\u001b[0mitem\u001b[0m\u001b[0;34m)\u001b[0m\u001b[0;34m\u001b[0m\u001b[0;34m\u001b[0m\u001b[0m\n\u001b[0m\u001b[1;32m   1665\u001b[0m         \u001b[0;32melse\u001b[0m\u001b[0;34m:\u001b[0m\u001b[0;34m\u001b[0m\u001b[0;34m\u001b[0m\u001b[0m\n\u001b[1;32m   1666\u001b[0m             raise ValueError('Illegal type {} for table item access'\n",
      "\u001b[0;32m~/.conda/envs/sbi/lib/python3.7/site-packages/astropy/table/table.py\u001b[0m in \u001b[0;36m_new_from_slice\u001b[0;34m(self, slice_)\u001b[0m\n\u001b[1;32m   1179\u001b[0m         \u001b[0mnewcols\u001b[0m \u001b[0;34m=\u001b[0m \u001b[0;34m[\u001b[0m\u001b[0;34m]\u001b[0m\u001b[0;34m\u001b[0m\u001b[0;34m\u001b[0m\u001b[0m\n\u001b[1;32m   1180\u001b[0m         \u001b[0;32mfor\u001b[0m \u001b[0mcol\u001b[0m \u001b[0;32min\u001b[0m \u001b[0mself\u001b[0m\u001b[0;34m.\u001b[0m\u001b[0mcolumns\u001b[0m\u001b[0;34m.\u001b[0m\u001b[0mvalues\u001b[0m\u001b[0;34m(\u001b[0m\u001b[0;34m)\u001b[0m\u001b[0;34m:\u001b[0m\u001b[0;34m\u001b[0m\u001b[0;34m\u001b[0m\u001b[0m\n\u001b[0;32m-> 1181\u001b[0;31m             \u001b[0mnewcol\u001b[0m \u001b[0;34m=\u001b[0m \u001b[0mcol\u001b[0m\u001b[0;34m[\u001b[0m\u001b[0mslice_\u001b[0m\u001b[0;34m]\u001b[0m\u001b[0;34m\u001b[0m\u001b[0;34m\u001b[0m\u001b[0m\n\u001b[0m\u001b[1;32m   1182\u001b[0m \u001b[0;34m\u001b[0m\u001b[0m\n\u001b[1;32m   1183\u001b[0m             \u001b[0;31m# Note in line below, use direct attribute access to col.indices for Column\u001b[0m\u001b[0;34m\u001b[0m\u001b[0;34m\u001b[0m\u001b[0;34m\u001b[0m\u001b[0m\n",
      "\u001b[0;32mastropy/table/_column_mixins.pyx\u001b[0m in \u001b[0;36mastropy.table._column_mixins._MaskedColumnGetitemShim.__getitem__\u001b[0;34m()\u001b[0m\n",
      "\u001b[0;32mastropy/table/_column_mixins.pyx\u001b[0m in \u001b[0;36mastropy.table._column_mixins.base_getitem\u001b[0;34m()\u001b[0m\n",
      "\u001b[0;32mastropy/table/_column_mixins.pyx\u001b[0m in \u001b[0;36mastropy.table._column_mixins.masked_column_getitem\u001b[0;34m()\u001b[0m\n",
      "\u001b[0;32m~/.conda/envs/sbi/lib/python3.7/site-packages/numpy/ma/core.py\u001b[0m in \u001b[0;36m__getitem__\u001b[0;34m(self, indx)\u001b[0m\n\u001b[1;32m   3222\u001b[0m         \u001b[0;31m# mask of being reshaped if it hasn't been set up properly yet\u001b[0m\u001b[0;34m\u001b[0m\u001b[0;34m\u001b[0m\u001b[0;34m\u001b[0m\u001b[0m\n\u001b[1;32m   3223\u001b[0m         \u001b[0;31m# So it's easier to stick to the current version\u001b[0m\u001b[0;34m\u001b[0m\u001b[0;34m\u001b[0m\u001b[0;34m\u001b[0m\u001b[0m\n\u001b[0;32m-> 3224\u001b[0;31m         \u001b[0mdout\u001b[0m \u001b[0;34m=\u001b[0m \u001b[0mself\u001b[0m\u001b[0;34m.\u001b[0m\u001b[0mdata\u001b[0m\u001b[0;34m[\u001b[0m\u001b[0mindx\u001b[0m\u001b[0;34m]\u001b[0m\u001b[0;34m\u001b[0m\u001b[0;34m\u001b[0m\u001b[0m\n\u001b[0m\u001b[1;32m   3225\u001b[0m         \u001b[0m_mask\u001b[0m \u001b[0;34m=\u001b[0m \u001b[0mself\u001b[0m\u001b[0;34m.\u001b[0m\u001b[0m_mask\u001b[0m\u001b[0;34m\u001b[0m\u001b[0;34m\u001b[0m\u001b[0m\n\u001b[1;32m   3226\u001b[0m \u001b[0;34m\u001b[0m\u001b[0m\n",
      "\u001b[0;32m~/.conda/envs/sbi/lib/python3.7/site-packages/numpy/ma/core.py\u001b[0m in \u001b[0;36m__getitem__\u001b[0;34m(self, indx)\u001b[0m\n\u001b[1;32m   3222\u001b[0m         \u001b[0;31m# mask of being reshaped if it hasn't been set up properly yet\u001b[0m\u001b[0;34m\u001b[0m\u001b[0;34m\u001b[0m\u001b[0;34m\u001b[0m\u001b[0m\n\u001b[1;32m   3223\u001b[0m         \u001b[0;31m# So it's easier to stick to the current version\u001b[0m\u001b[0;34m\u001b[0m\u001b[0;34m\u001b[0m\u001b[0;34m\u001b[0m\u001b[0m\n\u001b[0;32m-> 3224\u001b[0;31m         \u001b[0mdout\u001b[0m \u001b[0;34m=\u001b[0m \u001b[0mself\u001b[0m\u001b[0;34m.\u001b[0m\u001b[0mdata\u001b[0m\u001b[0;34m[\u001b[0m\u001b[0mindx\u001b[0m\u001b[0;34m]\u001b[0m\u001b[0;34m\u001b[0m\u001b[0;34m\u001b[0m\u001b[0m\n\u001b[0m\u001b[1;32m   3225\u001b[0m         \u001b[0m_mask\u001b[0m \u001b[0;34m=\u001b[0m \u001b[0mself\u001b[0m\u001b[0;34m.\u001b[0m\u001b[0m_mask\u001b[0m\u001b[0;34m\u001b[0m\u001b[0;34m\u001b[0m\u001b[0m\n\u001b[1;32m   3226\u001b[0m \u001b[0;34m\u001b[0m\u001b[0m\n",
      "\u001b[0;31mKeyboardInterrupt\u001b[0m: "
     ]
    }
   ],
   "source": [
    "# compile satellite luminosities \n",
    "lum_has_stars = np.zeros((len(centrals), 4))\n",
    "lum_above_mlim = np.zeros((len(centrals), 4))\n",
    "lum_above_mrlim = np.zeros((len(centrals), 4))\n",
    "richness_all = np.zeros(len(centrals))\n",
    "richness_mlim = np.zeros(len(centrals))\n",
    "richness_mrlim = np.zeros((len(centrals), 4))\n",
    "\n",
    "has_stars = tab_sub['SubhaloMassType'][:,4] > 0\n",
    "above_mlim = np.log10(tab_sub['SubhaloMassType'][:,4] * 10**10 / h) > 9.\n",
    "above_mrlim = tab_sub['SubhaloStellarPhotometrics'][:,5] < -18\n",
    "\n",
    "for i_sub in tqdm(np.unique(centrals['subhalo_id'])):\n",
    "    i_grp = tab_sub['SubhaloGrNr'][i_sub]\n",
    "    in_group = (tab_sub['SubhaloGrNr'] == i_grp) & (np.arange(len(tab_sub)) != i_sub)\n",
    "\n",
    "    # g, r, i, z\n",
    "    is_sub = (centrals['subhalo_id'] == i_sub)\n",
    "    lum_has_stars[is_sub,:] = np.tile(\n",
    "        np.sum(10**(-0.4 * tab_sub[in_group & has_stars]['SubhaloStellarPhotometrics'][:,4:]), \n",
    "            axis=0),\n",
    "        (np.sum(is_sub),1))\n",
    "    lum_above_mlim[is_sub,:] = np.tile(\n",
    "        np.sum(10**(-0.4 * tab_sub[in_group & above_mlim]['SubhaloStellarPhotometrics'][:,4:]), \n",
    "            axis=0),\n",
    "        (np.sum(is_sub),1))\n",
    "    lum_above_mrlim[is_sub,:] = np.tile(\n",
    "        np.sum(10**(-0.4 * tab_sub[in_group & above_mrlim]['SubhaloStellarPhotometrics'][:,4:]), \n",
    "            axis=0),\n",
    "        (np.sum(is_sub),1))\n",
    "    \n",
    "    richness_all[is_sub]    = np.sum(in_group & has_stars)\n",
    "    richness_mlim[is_sub]   = np.sum(in_group & above_mlim)\n",
    "    richness_mrlim[is_sub]   = np.sum(in_group & above_mrlim)    \n",
    "\n",
    "for i, b in enumerate(['g', 'r', 'i', 'z']): \n",
    "    centrals['%s_lum_has_stars' % b] = lum_has_stars[:,i]\n",
    "    centrals['%s_lum_above_mlim' % b] = lum_above_mlim[:,i]\n",
    "    centrals['%s_lum_above_mrlim' % b] = lum_above_mrlim[:,i]\n",
    "\n",
    "centrals['richness_all'] = richness_all\n",
    "centrals['richness_mlim'] = richness_mlim\n",
    "centrals['richness_mrlim'] = richness_mrlim\n",
    "\n",
    "centrals.write(os.path.join(dat_dir, 'subhalos.central.snapshot%i.hdf5' % snapshot), overwrite=True)\n",
    "\n",
    "# set up training and test data sets \n",
    "uid = np.random.choice(np.unique(subhalo['subhalo_id'][subhalo['SubhaloMassType_stars'] > 9.5]), \n",
    "                       replace=False, size=125)\n",
    "\n",
    "i_test = np.zeros(len(subhalo)).astype(bool)\n",
    "for _uid in uid:\n",
    "    i_test[subhalo['subhalo_id'] == _uid] = True\n",
    "\n",
    "print('%s test subhalos' % np.sum(i_test))\n",
    "test_subhalos = subhalo[i_test]\n",
    "train_subhalos = subhalo[~i_test]\n",
    "\n",
    "test_subhalos.write(os.path.join(dat_dir, 'subhalos.central.snapshot%i.v1.test.hdf5' % snapshot), overwrite=True)\n",
    "train_subhalos.write(os.path.join(dat_dir, 'subhalos.central.snapshot%i.v1.train.hdf5' % snapshot), overwrite=True)"
   ]
  },
  {
   "cell_type": "code",
   "execution_count": null,
   "id": "758bc318",
   "metadata": {},
   "outputs": [],
   "source": []
  }
 ],
 "metadata": {
  "kernelspec": {
   "display_name": "sbi",
   "language": "python",
   "name": "sbi"
  },
  "language_info": {
   "codemirror_mode": {
    "name": "ipython",
    "version": 3
   },
   "file_extension": ".py",
   "mimetype": "text/x-python",
   "name": "python",
   "nbconvert_exporter": "python",
   "pygments_lexer": "ipython3",
   "version": "3.7.10"
  }
 },
 "nbformat": 4,
 "nbformat_minor": 5
}
