{
 "cells": [
  {
   "cell_type": "code",
   "execution_count": 1,
   "id": "100228a8",
   "metadata": {},
   "outputs": [],
   "source": [
    "import os\n",
    "import h5py, glob\n",
    "import numpy as np \n",
    "from tqdm.notebook import tqdm\n",
    "from astropy import table as aTable"
   ]
  },
  {
   "cell_type": "code",
   "execution_count": 2,
   "id": "9c60e927",
   "metadata": {},
   "outputs": [],
   "source": [
    "# -- plotting -- \n",
    "import corner as DFM\n",
    "import matplotlib as mpl\n",
    "import matplotlib.pyplot as plt\n",
    "mpl.rcParams['text.usetex'] = True\n",
    "mpl.rcParams['font.family'] = 'serif'\n",
    "mpl.rcParams['axes.linewidth'] = 1.5\n",
    "mpl.rcParams['axes.xmargin'] = 1\n",
    "mpl.rcParams['xtick.labelsize'] = 'x-large'\n",
    "mpl.rcParams['xtick.major.size'] = 5\n",
    "mpl.rcParams['xtick.major.width'] = 1.5\n",
    "mpl.rcParams['ytick.labelsize'] = 'x-large'\n",
    "mpl.rcParams['ytick.major.size'] = 5\n",
    "mpl.rcParams['ytick.major.width'] = 1.5\n",
    "mpl.rcParams['legend.frameon'] = False"
   ]
  },
  {
   "cell_type": "code",
   "execution_count": 3,
   "id": "401a9d9b",
   "metadata": {},
   "outputs": [],
   "source": [
    "snapshot = 91"
   ]
  },
  {
   "cell_type": "code",
   "execution_count": 4,
   "id": "636d3447",
   "metadata": {},
   "outputs": [
    {
     "data": {
      "application/vnd.jupyter.widget-view+json": {
       "model_id": "e1b643cd8ee9448abc956f67099024dd",
       "version_major": 2,
       "version_minor": 0
      },
      "text/plain": [
       "  0%|          | 0/680 [00:00<?, ?it/s]"
      ]
     },
     "metadata": {},
     "output_type": "display_data"
    },
    {
     "name": "stderr",
     "output_type": "stream",
     "text": [
      "/home/chhahn/.conda/envs/sbi/lib/python3.7/site-packages/ipykernel_launcher.py:22: VisibleDeprecationWarning: Creating an ndarray from ragged nested sequences (which is a list-or-tuple of lists-or-tuples-or ndarrays with different lengths or shapes) is deprecated. If you meant to do this, you must specify 'dtype=object' when creating the ndarray.\n"
     ]
    }
   ],
   "source": [
    "grp_dir = '/scratch/gpfs/chhahn/haloflow/groupcat/idark.ipmu.jp/hsc405/GroupCats/groups_0%i/' % snapshot\n",
    "#grp_dir = '/scratch/gpfs/chhahn/haloflow/groupcat/idark.ipmu.jp/hsc405/GroupCats/tng100/'\n",
    "\n",
    "h = 0.6773358287273804\n",
    "\n",
    "# compile subhalos and groups\n",
    "groupfirstsub = [] \n",
    "\n",
    "tab_sub, tab_grp = [], []\n",
    "for i in tqdm(range(np.max([int(fsub.split('.')[-2]) for fsub in glob.glob(os.path.join(grp_dir, '*.hdf5'))])+1)):\n",
    "    with h5py.File(os.path.join(grp_dir, 'fof_subhalo_tab_0%i.%i.hdf5' % (snapshot, i)), 'r') as fsub:\n",
    "        _tab = aTable.Table()\n",
    "        for k in fsub['Subhalo'].keys():\n",
    "            _tab[k] = fsub['Subhalo'][k][...]\n",
    "        tab_sub.append(_tab)\n",
    "        \n",
    "        \n",
    "        if (len(fsub['Group'].keys())) == 0: continue\n",
    "        groupfirstsub.append(fsub['Group']['GroupFirstSub'][...])\n",
    "\n",
    "tab_sub = aTable.vstack(tab_sub)\n",
    "groupfirstsub = np.concatenate(np.array(groupfirstsub))"
   ]
  },
  {
   "cell_type": "code",
   "execution_count": 5,
   "id": "f8731c86",
   "metadata": {},
   "outputs": [],
   "source": [
    "central_subid = groupfirstsub[groupfirstsub != -1]"
   ]
  },
  {
   "cell_type": "code",
   "execution_count": 6,
   "id": "7edd9147",
   "metadata": {},
   "outputs": [],
   "source": [
    "tab_sub = tab_sub[central_subid]"
   ]
  },
  {
   "cell_type": "code",
   "execution_count": 7,
   "id": "3fff1f5d",
   "metadata": {},
   "outputs": [
    {
     "name": "stderr",
     "output_type": "stream",
     "text": [
      "/home/chhahn/.conda/envs/sbi/lib/python3.7/site-packages/ipykernel_launcher.py:1: RuntimeWarning: divide by zero encountered in log10\n",
      "  \"\"\"Entry point for launching an IPython kernel.\n",
      "/home/chhahn/.conda/envs/sbi/lib/python3.7/site-packages/ipykernel_launcher.py:2: RuntimeWarning: divide by zero encountered in log10\n",
      "  \n"
     ]
    }
   ],
   "source": [
    "logms = np.log10(tab_sub['SubhaloMassType'][:,4] * 10**10 / h)\n",
    "logmh = np.log10(tab_sub['SubhaloMassType'][:,1] * 10**10 / h)\n",
    "\n",
    "mlim = logms > 9.0\n",
    "logms = logms[mlim]\n",
    "logmh = logmh[mlim]"
   ]
  },
  {
   "cell_type": "code",
   "execution_count": 8,
   "id": "10c6d218",
   "metadata": {},
   "outputs": [
    {
     "data": {
      "application/vnd.jupyter.widget-view+json": {
       "model_id": "62ee79387e184a648f6708d809b9ea8d",
       "version_major": 2,
       "version_minor": 0
      },
      "text/plain": [
       "  0%|          | 0/448 [00:00<?, ?it/s]"
      ]
     },
     "metadata": {},
     "output_type": "display_data"
    },
    {
     "name": "stderr",
     "output_type": "stream",
     "text": [
      "/home/chhahn/.conda/envs/sbi/lib/python3.7/site-packages/ipykernel_launcher.py:21: VisibleDeprecationWarning: Creating an ndarray from ragged nested sequences (which is a list-or-tuple of lists-or-tuples-or ndarrays with different lengths or shapes) is deprecated. If you meant to do this, you must specify 'dtype=object' when creating the ndarray.\n",
      "/home/chhahn/.conda/envs/sbi/lib/python3.7/site-packages/ipykernel_launcher.py:27: RuntimeWarning: divide by zero encountered in log10\n",
      "/home/chhahn/.conda/envs/sbi/lib/python3.7/site-packages/ipykernel_launcher.py:28: RuntimeWarning: divide by zero encountered in log10\n"
     ]
    }
   ],
   "source": [
    "grp_dir = '/scratch/gpfs/chhahn/haloflow/groupcat/idark.ipmu.jp/hsc405/GroupCats/tng100/'\n",
    "\n",
    "h = 0.6773358287273804\n",
    "\n",
    "# compile subhalos and groups\n",
    "groupfirstsub = [] \n",
    "\n",
    "tab_sub, tab_grp = [], []\n",
    "for i in tqdm(range(np.max([int(fsub.split('.')[-2]) for fsub in glob.glob(os.path.join(grp_dir, '*.hdf5'))])+1)):\n",
    "    with h5py.File(os.path.join(grp_dir, 'fof_subhalo_tab_0%i.%i.hdf5' % (snapshot, i)), 'r') as fsub:\n",
    "        _tab = aTable.Table()\n",
    "        for k in fsub['Subhalo'].keys():\n",
    "            _tab[k] = fsub['Subhalo'][k][...]\n",
    "        tab_sub.append(_tab)\n",
    "        \n",
    "        \n",
    "        if (len(fsub['Group'].keys())) == 0: continue\n",
    "        groupfirstsub.append(fsub['Group']['GroupFirstSub'][...])\n",
    "\n",
    "tab_sub = aTable.vstack(tab_sub)\n",
    "groupfirstsub = np.concatenate(np.array(groupfirstsub))\n",
    "\n",
    "central_subid = groupfirstsub[groupfirstsub != -1]\n",
    "\n",
    "tab_sub = tab_sub[central_subid]\n",
    "\n",
    "logms1 = np.log10(tab_sub['SubhaloMassType'][:,4] * 10**10 / h)\n",
    "logmh1 = np.log10(tab_sub['SubhaloMassType'][:,1] * 10**10 / h)\n",
    "\n",
    "mlim1 = logms1 > 9.0\n",
    "logms1 = logms1[mlim1]\n",
    "logmh1 = logmh1[mlim1]"
   ]
  },
  {
   "cell_type": "code",
   "execution_count": 17,
   "id": "0bda1a6f",
   "metadata": {},
   "outputs": [
    {
     "name": "stderr",
     "output_type": "stream",
     "text": [
      "/home/chhahn/.conda/envs/sbi/lib/python3.7/site-packages/numpy/core/fromnumeric.py:755: UserWarning: Warning: 'partition' will ignore the 'mask' of the MaskedColumn.\n",
      "  a.partition(kth, axis=axis, kind=kind, order=order)\n"
     ]
    },
    {
     "data": {
      "text/plain": [
       "(9.0, 12.5)"
      ]
     },
     "execution_count": 17,
     "metadata": {},
     "output_type": "execute_result"
    },
    {
     "data": {
      "image/png": "[encoded data removed]",
      "text/plain": [
       "<Figure size 432x288 with 1 Axes>"
      ]
     },
     "metadata": {
      "needs_background": "light"
     },
     "output_type": "display_data"
    }
   ],
   "source": [
    "plt.scatter(logmh1, logms1, s=1, c='C0')\n",
    "plt.scatter(logmh, logms, s=1, c='k')\n",
    "\n",
    "ms_bins = np.linspace(9., 12., 21)\n",
    "\n",
    "mh_mean, mh_std, mh_med, mh_lo, mh_hi = [], [], [], [], []\n",
    "for i in range(len(ms_bins)-1): \n",
    "    in_ms = (logms > ms_bins[i]) & (logms <= ms_bins[i+1])\n",
    "    mh_mean.append(np.mean(logmh[in_ms]))\n",
    "    mh_std.append(np.std(logmh[in_ms]))\n",
    "    \n",
    "    mh_med.append(np.median(logmh[in_ms]))\n",
    "    mh_lo.append(np.quantile(logmh[in_ms], 0.16))\n",
    "    mh_hi.append(np.quantile(logmh[in_ms], 0.84))\n",
    "plt.errorbar(mh_med, 0.5*(ms_bins[:-1] + ms_bins[1:]), \n",
    "             xerr=np.array([np.array(mh_med)-np.array(mh_lo), np.array(mh_hi)-np.array(mh_med)]), fmt='.C1')\n",
    "plt.errorbar(mh_mean, 0.5*(ms_bins[:-1] + ms_bins[1:])+0.02, \n",
    "             xerr=np.array(mh_std), fmt='.r')\n",
    "plt.xlabel(r'$\\log M_h$', fontsize=25)\n",
    "plt.xlim(10, 14)\n",
    "plt.ylabel(r'$\\log M_*$', fontsize=25)\n",
    "plt.ylim(9, 12.5)"
   ]
  },
  {
   "cell_type": "code",
   "execution_count": 61,
   "id": "91c465b2",
   "metadata": {},
   "outputs": [],
   "source": [
    "np.savetxt('/scratch/gpfs/chhahn/haloflow/tng.ms_mh.txt', \n",
    "           np.array([0.5*(ms_bins[:-1] + ms_bins[1:]), np.array(mh_med), np.array(mh_lo), np.array(mh_hi)]).T, \n",
    "           header='logM*, logMh median, logMh 16th, logMh 84th')"
   ]
  },
  {
   "cell_type": "code",
   "execution_count": null,
   "id": "7283e72b",
   "metadata": {},
   "outputs": [],
   "source": []
  }
 ],
 "metadata": {
  "kernelspec": {
   "display_name": "sbi",
   "language": "python",
   "name": "sbi"
  },
  "language_info": {
   "codemirror_mode": {
    "name": "ipython",
    "version": 3
   },
   "file_extension": ".py",
   "mimetype": "text/x-python",
   "name": "python",
   "nbconvert_exporter": "python",
   "pygments_lexer": "ipython3",
   "version": "3.7.10"
  }
 },
 "nbformat": 4,
 "nbformat_minor": 5
}
