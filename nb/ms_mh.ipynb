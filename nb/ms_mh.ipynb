{
 "cells": [
  {
   "cell_type": "code",
   "execution_count": 1,
   "id": "100228a8",
   "metadata": {},
   "outputs": [],
   "source": [
    "import os\n",
    "import h5py, glob\n",
    "import numpy as np \n",
    "from tqdm.notebook import tqdm\n",
    "from astropy import table as aTable"
   ]
  },
  {
   "cell_type": "code",
   "execution_count": 2,
   "id": "9c60e927",
   "metadata": {},
   "outputs": [],
   "source": [
    "# -- plotting -- \n",
    "import corner as DFM\n",
    "import matplotlib as mpl\n",
    "import matplotlib.pyplot as plt\n",
    "mpl.rcParams['text.usetex'] = True\n",
    "mpl.rcParams['font.family'] = 'serif'\n",
    "mpl.rcParams['axes.linewidth'] = 1.5\n",
    "mpl.rcParams['axes.xmargin'] = 1\n",
    "mpl.rcParams['xtick.labelsize'] = 'x-large'\n",
    "mpl.rcParams['xtick.major.size'] = 5\n",
    "mpl.rcParams['xtick.major.width'] = 1.5\n",
    "mpl.rcParams['ytick.labelsize'] = 'x-large'\n",
    "mpl.rcParams['ytick.major.size'] = 5\n",
    "mpl.rcParams['ytick.major.width'] = 1.5\n",
    "mpl.rcParams['legend.frameon'] = False"
   ]
  },
  {
   "cell_type": "code",
   "execution_count": 3,
   "id": "401a9d9b",
   "metadata": {},
   "outputs": [],
   "source": [
    "snapshot = 91"
   ]
  },
  {
   "cell_type": "code",
   "execution_count": 4,
   "id": "636d3447",
   "metadata": {},
   "outputs": [
    {
     "data": {
      "application/vnd.jupyter.widget-view+json": {
       "model_id": "37231f1fb400424d9572d02f0b13b477",
       "version_major": 2,
       "version_minor": 0
      },
      "text/plain": [
       "  0%|          | 0/680 [00:00<?, ?it/s]"
      ]
     },
     "metadata": {},
     "output_type": "display_data"
    },
    {
     "name": "stderr",
     "output_type": "stream",
     "text": [
      "/home/chhahn/.conda/envs/sbi/lib/python3.7/site-packages/ipykernel_launcher.py:22: VisibleDeprecationWarning: Creating an ndarray from ragged nested sequences (which is a list-or-tuple of lists-or-tuples-or ndarrays with different lengths or shapes) is deprecated. If you meant to do this, you must specify 'dtype=object' when creating the ndarray.\n"
     ]
    }
   ],
   "source": [
    "grp_dir = '/scratch/gpfs/chhahn/haloflow/groupcat/idark.ipmu.jp/hsc405/GroupCats/groups_0%i/' % snapshot\n",
    "#grp_dir = '/scratch/gpfs/chhahn/haloflow/groupcat/idark.ipmu.jp/hsc405/GroupCats/tng100/'\n",
    "\n",
    "h = 0.6773358287273804\n",
    "\n",
    "# compile subhalos and groups\n",
    "groupfirstsub = [] \n",
    "\n",
    "tab_sub, tab_grp = [], []\n",
    "for i in tqdm(range(np.max([int(fsub.split('.')[-2]) for fsub in glob.glob(os.path.join(grp_dir, '*.hdf5'))])+1)):\n",
    "    with h5py.File(os.path.join(grp_dir, 'fof_subhalo_tab_0%i.%i.hdf5' % (snapshot, i)), 'r') as fsub:\n",
    "        _tab = aTable.Table()\n",
    "        for k in fsub['Subhalo'].keys():\n",
    "            _tab[k] = fsub['Subhalo'][k][...]\n",
    "        tab_sub.append(_tab)\n",
    "        \n",
    "        \n",
    "        if (len(fsub['Group'].keys())) == 0: continue\n",
    "        groupfirstsub.append(fsub['Group']['GroupFirstSub'][...])\n",
    "\n",
    "tab_sub = aTable.vstack(tab_sub)\n",
    "groupfirstsub = np.concatenate(np.array(groupfirstsub))"
   ]
  },
  {
   "cell_type": "code",
   "execution_count": 5,
   "id": "f8731c86",
   "metadata": {},
   "outputs": [],
   "source": [
    "central_subid = groupfirstsub[groupfirstsub != -1]"
   ]
  },
  {
   "cell_type": "code",
   "execution_count": 6,
   "id": "7edd9147",
   "metadata": {},
   "outputs": [],
   "source": [
    "tab_sub = tab_sub[central_subid]"
   ]
  },
  {
   "cell_type": "code",
   "execution_count": 7,
   "id": "0e0498e5",
   "metadata": {},
   "outputs": [
    {
     "name": "stderr",
     "output_type": "stream",
     "text": [
      "/home/chhahn/.conda/envs/sbi/lib/python3.7/site-packages/ipykernel_launcher.py:1: RuntimeWarning: divide by zero encountered in log10\n",
      "  \"\"\"Entry point for launching an IPython kernel.\n"
     ]
    },
    {
     "data": {
      "text/plain": [
       "89076"
      ]
     },
     "execution_count": 7,
     "metadata": {},
     "output_type": "execute_result"
    }
   ],
   "source": [
    "np.sum(np.log10(tab_sub['SubhaloMassType'][:,1] * 10**10 / h) > 9.0)"
   ]
  },
  {
   "cell_type": "code",
   "execution_count": 29,
   "id": "3fff1f5d",
   "metadata": {},
   "outputs": [
    {
     "name": "stderr",
     "output_type": "stream",
     "text": [
      "/home/chhahn/.conda/envs/sbi/lib/python3.7/site-packages/ipykernel_launcher.py:1: RuntimeWarning: divide by zero encountered in log10\n",
      "  \"\"\"Entry point for launching an IPython kernel.\n",
      "/home/chhahn/.conda/envs/sbi/lib/python3.7/site-packages/ipykernel_launcher.py:2: RuntimeWarning: divide by zero encountered in log10\n",
      "  \n"
     ]
    }
   ],
   "source": [
    "logms = np.log10(tab_sub['SubhaloMassType'][:,4] * 10**10 / h)\n",
    "logmh = np.log10(tab_sub['SubhaloMassType'][:,1] * 10**10 / h)\n",
    "\n",
    "mlim = logms > 9.0\n",
    "logms = logms[mlim]\n",
    "logmh = logmh[mlim]"
   ]
  },
  {
   "cell_type": "code",
   "execution_count": 54,
   "id": "3785a2b4",
   "metadata": {},
   "outputs": [
    {
     "data": {
      "text/plain": [
       "(2, 9)"
      ]
     },
     "execution_count": 54,
     "metadata": {},
     "output_type": "execute_result"
    }
   ],
   "source": [
    "np.array([np.array(mh_lo)-np.array(mh_med), np.array(mh_hi)-np.array(mh_med)]).shape"
   ]
  },
  {
   "cell_type": "code",
   "execution_count": 60,
   "id": "0bda1a6f",
   "metadata": {},
   "outputs": [
    {
     "name": "stderr",
     "output_type": "stream",
     "text": [
      "/home/chhahn/.conda/envs/sbi/lib/python3.7/site-packages/numpy/core/fromnumeric.py:755: UserWarning: Warning: 'partition' will ignore the 'mask' of the MaskedColumn.\n",
      "  a.partition(kth, axis=axis, kind=kind, order=order)\n"
     ]
    },
    {
     "data": {
      "text/plain": [
       "(9.0, 12.5)"
      ]
     },
     "execution_count": 60,
     "metadata": {},
     "output_type": "execute_result"
    },
    {
     "data": {
      "image/png": "[encoded data removed]",
      "text/plain": [
       "<Figure size 432x288 with 1 Axes>"
      ]
     },
     "metadata": {
      "needs_background": "light"
     },
     "output_type": "display_data"
    }
   ],
   "source": [
    "plt.scatter(logmh, logms, s=1, c='k')\n",
    "\n",
    "ms_bins = np.linspace(9., 12., 21)\n",
    "\n",
    "mh_med, mh_lo, mh_hi = [], [], []\n",
    "for i in range(len(ms_bins)-1): \n",
    "    in_ms = (logms > ms_bins[i]) & (logms <= ms_bins[i+1])\n",
    "    mh_med.append(np.median(logmh[in_ms]))\n",
    "    mh_lo.append(np.quantile(logmh[in_ms], 0.16))\n",
    "    mh_hi.append(np.quantile(logmh[in_ms], 0.84))\n",
    "\n",
    "plt.errorbar(mh_med, 0.5*(ms_bins[:-1] + ms_bins[1:]), \n",
    "             xerr=np.array([np.array(mh_med)-np.array(mh_lo), np.array(mh_hi)-np.array(mh_med)]), fmt='.C1')\n",
    "plt.xlabel(r'$\\log M_h$', fontsize=25)\n",
    "plt.xlim(10, 14)\n",
    "plt.ylabel(r'$\\log M_*$', fontsize=25)\n",
    "plt.ylim(9, 12.5)"
   ]
  },
  {
   "cell_type": "code",
   "execution_count": 61,
   "id": "91c465b2",
   "metadata": {},
   "outputs": [],
   "source": [
    "np.savetxt('/scratch/gpfs/chhahn/haloflow/tng.ms_mh.txt', \n",
    "           np.array([0.5*(ms_bins[:-1] + ms_bins[1:]), np.array(mh_med), np.array(mh_lo), np.array(mh_hi)]).T, \n",
    "           header='logM*, logMh median, logMh 16th, logMh 84th')"
   ]
  },
  {
   "cell_type": "code",
   "execution_count": null,
   "id": "7283e72b",
   "metadata": {},
   "outputs": [],
   "source": []
  }
 ],
 "metadata": {
  "kernelspec": {
   "display_name": "sbi",
   "language": "python",
   "name": "sbi"
  },
  "language_info": {
   "codemirror_mode": {
    "name": "ipython",
    "version": 3
   },
   "file_extension": ".py",
   "mimetype": "text/x-python",
   "name": "python",
   "nbconvert_exporter": "python",
   "pygments_lexer": "ipython3",
   "version": "3.7.10"
  }
 },
 "nbformat": 4,
 "nbformat_minor": 5
}
