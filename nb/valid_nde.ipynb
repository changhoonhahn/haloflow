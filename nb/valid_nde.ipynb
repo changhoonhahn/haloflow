{
 "cells": [
  {
   "cell_type": "code",
   "execution_count": 1,
   "id": "b85dfc31",
   "metadata": {},
   "outputs": [],
   "source": [
    "import os, glob\n",
    "import numpy as np\n",
    "from tqdm.notebook import tqdm, trange"
   ]
  },
  {
   "cell_type": "code",
   "execution_count": 2,
   "id": "bec166f1",
   "metadata": {},
   "outputs": [],
   "source": [
    "from haloflow import data as D"
   ]
  },
  {
   "cell_type": "code",
   "execution_count": 3,
   "id": "2215841f",
   "metadata": {},
   "outputs": [],
   "source": [
    "import torch\n",
    "from sbi import utils as Ut\n",
    "from sbi import inference as Inference\n",
    "from tensorboard.backend.event_processing.event_accumulator import EventAccumulator"
   ]
  },
  {
   "cell_type": "code",
   "execution_count": 4,
   "id": "6776ca5f",
   "metadata": {},
   "outputs": [],
   "source": [
    "import corner as DFM\n",
    "# --- plotting ---\n",
    "import matplotlib as mpl\n",
    "import matplotlib.pyplot as plt\n",
    "mpl.rcParams['text.usetex'] = True\n",
    "mpl.rcParams['font.family'] = 'serif'\n",
    "mpl.rcParams['axes.linewidth'] = 1.5\n",
    "mpl.rcParams['axes.xmargin'] = 1\n",
    "mpl.rcParams['xtick.labelsize'] = 'x-large'\n",
    "mpl.rcParams['xtick.major.size'] = 5\n",
    "mpl.rcParams['xtick.major.width'] = 1.5\n",
    "mpl.rcParams['ytick.labelsize'] = 'x-large'\n",
    "mpl.rcParams['ytick.major.size'] = 5\n",
    "mpl.rcParams['ytick.major.width'] = 1.5\n",
    "mpl.rcParams['legend.frameon'] = False"
   ]
  },
  {
   "cell_type": "code",
   "execution_count": 5,
   "id": "bfe242b7",
   "metadata": {},
   "outputs": [],
   "source": [
    "if torch.cuda.is_available(): device = 'cuda'\n",
    "else: device = 'cpu'"
   ]
  },
  {
   "cell_type": "code",
   "execution_count": 6,
   "id": "fd997e47",
   "metadata": {},
   "outputs": [],
   "source": [
    "dat_dir = '/scratch/gpfs/chhahn/haloflow'"
   ]
  },
  {
   "cell_type": "code",
   "execution_count": 7,
   "id": "c40b3fd9",
   "metadata": {},
   "outputs": [],
   "source": [
    "def read_best_models(study_name): \n",
    "    fevents = glob.glob(os.path.join(dat_dir, 'nde/%s/*/events*' % study_name))\n",
    "\n",
    "    events, best_valid = [], []\n",
    "    for fevent in fevents: \n",
    "        ea = EventAccumulator(fevent)\n",
    "        ea.Reload()\n",
    "\n",
    "        try: \n",
    "            best_valid.append(ea.Scalars('best_validation_log_prob')[0].value)\n",
    "            events.append(fevent)\n",
    "        except: \n",
    "            pass #print(fevent)\n",
    "    best_valid = np.array(best_valid)\n",
    "\n",
    "    print('%i models trained' % np.max([int(os.path.dirname(event).split('.')[-1]) for event in events]))\n",
    "    \n",
    "    i_models = [int(os.path.dirname(events[i]).split('.')[-1]) for i in np.argsort(best_valid)[-5:][::-1]]\n",
    "    print(i_models) \n",
    "    \n",
    "    qphis = []\n",
    "    for i_model in i_models: \n",
    "        fqphi = os.path.join(dat_dir, 'nde/%s/%s.%i.pt' % (study_name, study_name, i_model))\n",
    "        qphi = torch.load(fqphi, map_location=device)\n",
    "        qphis.append(qphi)\n",
    "    return qphis"
   ]
  },
  {
   "cell_type": "code",
   "execution_count": 63,
   "id": "01c87c9b",
   "metadata": {},
   "outputs": [
    {
     "name": "stdout",
     "output_type": "stream",
     "text": [
      "29 models trained\n",
      "[21, 19, 0, 2, 4]\n"
     ]
    }
   ],
   "source": [
    "qphis = read_best_models('mags.maf')"
   ]
  },
  {
   "cell_type": "code",
   "execution_count": 64,
   "id": "6b325453",
   "metadata": {},
   "outputs": [],
   "source": [
    "y_test, x_test = D.get_subhalos('test', 'mags', snapshot=91)"
   ]
  },
  {
   "cell_type": "code",
   "execution_count": 65,
   "id": "4b16b256",
   "metadata": {
    "scrolled": false
   },
   "outputs": [
    {
     "data": {
      "application/vnd.jupyter.widget-view+json": {
       "model_id": "2485de8fda05418fbbbfc75f81cfd5b9",
       "version_major": 2,
       "version_minor": 0
      },
      "text/plain": [
       "  0%|          | 0/500 [00:00<?, ?it/s]"
      ]
     },
     "metadata": {},
     "output_type": "display_data"
    }
   ],
   "source": [
    "n_sample = 10000\n",
    "\n",
    "ranks, y_nde = [], []\n",
    "for i in trange(y_test.shape[0]): \n",
    "    y_samp = []\n",
    "    for qphi in qphis: \n",
    "        _samp = qphi.sample((int(n_sample/len(qphis)),),\n",
    "                           x=torch.tensor(x_test[i], dtype=torch.float32).to(device), \n",
    "                           show_progress_bars=False)\n",
    "\n",
    "        y_samp.append(_samp.detach().cpu().numpy())\n",
    "    ranks.append(np.mean(np.array(y_samp).flatten() < y_test[i]))\n",
    "    y_nde.append(np.array(y_samp).flatten())\n",
    "ranks = np.array(ranks)\n",
    "y_nde = np.array(y_nde)"
   ]
  },
  {
   "cell_type": "code",
   "execution_count": 66,
   "id": "930929b6",
   "metadata": {},
   "outputs": [
    {
     "data": {
      "text/plain": [
       "[]"
      ]
     },
     "execution_count": 66,
     "metadata": {},
     "output_type": "execute_result"
    },
    {
     "data": {
      "image/png": "[encoded data removed]",
      "text/plain": [
       "<Figure size 432x216 with 1 Axes>"
      ]
     },
     "metadata": {
      "needs_background": "light"
     },
     "output_type": "display_data"
    }
   ],
   "source": [
    "fig = plt.figure(figsize=(6,3))\n",
    "sub = fig.add_subplot(111)\n",
    "_ = sub.hist(ranks, range=(0., 1), bins=20, histtype='step', density=True, linewidth=2)\n",
    "\n",
    "sub.plot([0., 1.], [1., 1.], c='k', ls='--')\n",
    "sub.set_xlim(0., 1.)\n",
    "sub.set_ylim(0., 2.)\n",
    "sub.set_yticks([])"
   ]
  },
  {
   "cell_type": "code",
   "execution_count": 67,
   "id": "f48bd8f9",
   "metadata": {},
   "outputs": [
    {
     "data": {
      "text/plain": [
       "(10.5, 15.0)"
      ]
     },
     "execution_count": 67,
     "metadata": {},
     "output_type": "execute_result"
    },
    {
     "data": {
      "image/png": "[encoded data removed]",
      "text/plain": [
       "<Figure size 360x360 with 1 Axes>"
      ]
     },
     "metadata": {
      "needs_background": "light"
     },
     "output_type": "display_data"
    }
   ],
   "source": [
    "q1, q2, q3 = np.quantile(y_nde, (0.16, 0.5, 0.84), axis=1)\n",
    "\n",
    "fig = plt.figure(figsize=(5,5))\n",
    "sub = fig.add_subplot(111)\n",
    "sub.errorbar(y_test, q2, yerr=[q2-q1, q3-q2], fmt='.C0')\n",
    "sub.plot([10., 15], [10., 15], c='k', ls='--')\n",
    "sub.set_xlabel(r'true $\\log M_h$', fontsize=25)\n",
    "sub.set_xlim(10.5, 15.)\n",
    "sub.set_ylabel(r'inferred $\\log M_h$', fontsize=25)\n",
    "sub.set_ylim(10.5, 15.)"
   ]
  },
  {
   "cell_type": "code",
   "execution_count": null,
   "id": "2f48b3e6",
   "metadata": {},
   "outputs": [],
   "source": []
  }
 ],
 "metadata": {
  "kernelspec": {
   "display_name": "sbi",
   "language": "python",
   "name": "sbi"
  },
  "language_info": {
   "codemirror_mode": {
    "name": "ipython",
    "version": 3
   },
   "file_extension": ".py",
   "mimetype": "text/x-python",
   "name": "python",
   "nbconvert_exporter": "python",
   "pygments_lexer": "ipython3",
   "version": "3.7.10"
  }
 },
 "nbformat": 4,
 "nbformat_minor": 5
}
